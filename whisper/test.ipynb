{
 "cells": [
  {
   "cell_type": "code",
   "execution_count": null,
   "metadata": {},
   "outputs": [],
   "source": [
    "import torch\n",
    "import whisper\n",
    "\n",
    "model = whisper.load_model(\"small\")\n",
    "print(\"load finsish\")\n",
    "result = model.transcribe(\"/gallery_tate/jaehyuk.sung/tasks/whisper/datasets/source/TS1/1/1/0005_G1A3E7_KYG/0005_G1A3E7_KYG_000002.wav\")\n",
    "print(result['text'])"
   ]
  },
  {
   "cell_type": "code",
   "execution_count": 13,
   "metadata": {},
   "outputs": [],
   "source": [
    "import os.path as path\n",
    "import pathlib\n",
    "import glob\n",
    "\n",
    "def file_list(file_path, extension) :\n",
    "    answer = {}\n",
    "    get_path = {}\n",
    "    for file in glob.iglob(f\"{path.normpath(file_path)}/**/*.{extension}\", recursive=True) :\n",
    "    # print(file)\n",
    "        paths, name_ext = path.split(file)\n",
    "        name, _ = name_ext.split('.')\n",
    "        paths = path.basename(paths)\n",
    "        if paths in list(answer.keys()) :\n",
    "            answer[paths].append(name)\n",
    "        else :\n",
    "            answer[paths] = [name]\n",
    "        # answer.append({\"folder\": path.basename(paths), \"name\": name[:-5]})\n",
    "        get_path[name] = file\n",
    "    return answer, get_path\n",
    "    \n",
    "label_path = \"/gallery_tate/jaehyuk.sung/tasks/whisper/datasets/labeling/TL10\"\n",
    "source_path = \"/gallery_tate/jaehyuk.sung/tasks/whisper/datasets/source/TS10\"\n",
    "labeling, label_fpath = file_list(label_path, \"json\")\n",
    "source, source_fpath = file_list(source_path, \"wav\")\n",
    "final = {a: list(set(labeling[a]) & set(source[a])) for a in labeling.keys() & source.keys()}\n",
    "final\n",
    "# print(labeling, source)"
   ]
  },
  {
   "cell_type": "code",
   "execution_count": 17,
   "metadata": {},
   "outputs": [
    {
     "name": "stdout",
     "output_type": "stream",
     "text": [
      "{'model_size': 'large', 'labeling_path': 'abc', 'sound_path': 'abc', 'save_path': 'abc'}\n"
     ]
    }
   ],
   "source": [
    "import json\n",
    "with open(\"./config.json\", \"r\") as fp :\n",
    "    print(json.load(fp))"
   ]
  },
  {
   "cell_type": "code",
   "execution_count": null,
   "metadata": {},
   "outputs": [],
   "source": [
    "import glob\n",
    "\n",
    "files = glob.glob(label_path + '/**/*.json', recursive=True)\n",
    "files"
   ]
  },
  {
   "cell_type": "markdown",
   "metadata": {},
   "source": [
    "## Metric\n",
    "- Use CER, WER, CRR"
   ]
  },
  {
   "cell_type": "code",
   "execution_count": null,
   "metadata": {},
   "outputs": [],
   "source": [
    "import nlptutti as metrics\n",
    "import json\n",
    "import os\n",
    "metrics.get_cer(\"지금 바로 보험사에게 전화 걸어줄래?\", \"전화 걸어줄래?\")"
   ]
  },
  {
   "cell_type": "code",
   "execution_count": null,
   "metadata": {},
   "outputs": [],
   "source": [
    "result_def_path = \"/gallery_tate/jaehyuk.sung/tasks/whisper/results\"\n",
    "result_dir = os.listdir(result_def_path)"
   ]
  },
  {
   "cell_type": "code",
   "execution_count": null,
   "metadata": {},
   "outputs": [],
   "source": [
    "import json\n",
    "from nlptutti\n",
    "import nlptutti as metrics\n",
    "cer = 0\n",
    "cnt = 0\n",
    "flag = True\n",
    "for i in result_dir :\n",
    "    t_p = os.path.join(result_def_path, i)\n",
    "    print(f\"now directory: {t_p}\")\n",
    "    jsons = os.listdir(t_p)\n",
    "    for f in jsons:\n",
    "        file_p = os.path.join(t_p, f)\n",
    "        with open(file_p, \"r\") as fp:\n",
    "            vv = json.load(fp)\n",
    "            if flag is True :\n",
    "                print(vv)\n",
    "                flag = False\n",
    "            for element in vv :\n",
    "                gt = element['gt']\n",
    "                pr = element['predict']\n",
    "                cnt += 1\n",
    "                cer += get_cer(gt, pr)['cer']\n",
    "                print(f\"Now cnt: {cnt}, cer: {cer}\")"
   ]
  },
  {
   "cell_type": "code",
   "execution_count": null,
   "metadata": {},
   "outputs": [],
   "source": [
    "import json\n",
    "import os\n",
    "from os.path import join\n",
    "def get_answer(filename):\n",
    "    with open(filename, \"r\") as fp :\n",
    "        vv = json.load(fp)\n",
    "    return vv[\"전사정보\"][\"OrgLabelText\"]"
   ]
  },
  {
   "cell_type": "code",
   "execution_count": null,
   "metadata": {},
   "outputs": [],
   "source": [
    "import json\n",
    "with open(\"/gallery_tate/jaehyuk.sung/tasks/whisper/0035_G1A2E7_CJH.json\", \"r\") as fp:\n",
    "    aam = json.load(fp)\n",
    "print(aam[1])"
   ]
  },
  {
   "cell_type": "code",
   "execution_count": null,
   "metadata": {},
   "outputs": [],
   "source": [
    "data_path = '/gallery_tate/jaehyuk.sung/tasks/whisper/datasets/labeling/TL1/1/1/0035_G1A2E7_CJH'\n",
    "files = os.listdir(data_path)\n",
    "print(files)"
   ]
  },
  {
   "cell_type": "code",
   "execution_count": null,
   "metadata": {},
   "outputs": [],
   "source": [
    "print([get_answer(join(data_path, file)) for file in files])"
   ]
  },
  {
   "cell_type": "code",
   "execution_count": null,
   "metadata": {},
   "outputs": [],
   "source": [
    "def check(list1, list2) :\n",
    "    from collections import Counter\n",
    "    if Counter(list1) == Counter(list2) :\n",
    "        return 1\n",
    "    else :\n",
    "        return 0"
   ]
  },
  {
   "cell_type": "code",
   "execution_count": null,
   "metadata": {},
   "outputs": [],
   "source": [
    "import os\n",
    "from os.path import isdir, join\n",
    "default_path = '/gallery_tate/jaehyuk.sung/tasks/whisper'\n",
    "datasets = join(default_path, 'datasets')\n",
    "print(os.listdir(datasets))"
   ]
  },
  {
   "cell_type": "code",
   "execution_count": null,
   "metadata": {},
   "outputs": [],
   "source": [
    "import os\n",
    "print(len(os.listdir(\"/gallery_tate/jaehyuk.sung/tasks/whisper/datasets/labeling/TL1/1/1\")))\n"
   ]
  },
  {
   "cell_type": "code",
   "execution_count": null,
   "metadata": {},
   "outputs": [],
   "source": [
    "from tqdm import tqdm\n",
    "labeling_path = join(datasets, 'labeling')\n",
    "labeling_sets = sorted([f for f in os.listdir(labeling_path) if isdir(join(labeling_path, f))])\n",
    "source_path = join(datasets, 'source')\n",
    "source_sets = sorted([f for f in os.listdir(source_path) if isdir(join(source_path, f))])\n",
    "cnt = 0\n",
    "for labeling_path1 in labeling_sets :\n",
    "    numbering = 'TS' + labeling_path1[2:] \n",
    "    la_p1 = join(labeling_path, labeling_path1, '1')\n",
    "    so_p1 = join(source_path, numbering, '1')\n",
    "    la_ls = os.listdir(la_p1)\n",
    "    for labeling_path2 in la_ls :\n",
    "        la_p2 = join(la_p1, labeling_path2)\n",
    "        so_p2 = join(so_p1, labeling_path2)\n",
    "        la_l = os.listdir(la_p2)\n",
    "        so_l = os.listdir(so_p2)\n",
    "        for _, i in enumerate(tqdm(la_l)) :\n",
    "            tmps = os.listdir(join(la_p2, i))\n",
    "            files_name = [os.path.splitext(filename)[0] for filename in tmps]\n",
    "            offset = 32\n",
    "            batches = []\n",
    "            for itr in range(0, len(files_name), offset) :\n",
    "                batches.append(files_name[itr : itr+offset])\n",
    "            if cnt < 5:\n",
    "                print(batches)\n",
    "                cnt += 1"
   ]
  },
  {
   "cell_type": "code",
   "execution_count": null,
   "metadata": {},
   "outputs": [],
   "source": [
    "a = [[1, 1], [1, 2]]\n",
    "for _, i in enumerate(a) :\n",
    "    print(i)"
   ]
  },
  {
   "cell_type": "code",
   "execution_count": null,
   "metadata": {},
   "outputs": [],
   "source": [
    "import os\n",
    "already = os.listdir(\"/gallery_tate/jaehyuk.sung/tasks/whisper/TL1\")\n",
    "print(already)"
   ]
  }
 ],
 "metadata": {
  "kernelspec": {
   "display_name": "voc",
   "language": "python",
   "name": "python3"
  },
  "language_info": {
   "codemirror_mode": {
    "name": "ipython",
    "version": 3
   },
   "file_extension": ".py",
   "mimetype": "text/x-python",
   "name": "python",
   "nbconvert_exporter": "python",
   "pygments_lexer": "ipython3",
   "version": "3.9.19"
  }
 },
 "nbformat": 4,
 "nbformat_minor": 2
}
